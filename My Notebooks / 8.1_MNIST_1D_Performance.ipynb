{
  "cells": [
    {
      "cell_type": "markdown",
      "metadata": {
        "id": "view-in-github",
        "colab_type": "text"
      },
      "source": [
        "<a href=\"https://colab.research.google.com/github/Sergio-Deluich-Kaufmann/csci167-repository-sdk/blob/main/My%20Notebooks%20/%208.1_MNIST_1D_Performance.ipynb\" target=\"_parent\"><img src=\"https://colab.research.google.com/assets/colab-badge.svg\" alt=\"Open In Colab\"/></a>"
      ]
    },
    {
      "cell_type": "markdown",
      "metadata": {
        "id": "L6chybAVFJW2"
      },
      "source": [
        "# **Notebook 8.1: MNIST_1D_Performance**\n",
        "\n",
        "This notebook runs a simple neural network on the MNIST1D dataset as in figure 8.2a. It uses code from https://github.com/greydanus/mnist1d to generate the data.\n",
        "\n",
        "Work through the cells below, running each cell in turn. In various places you will see the words \"TODO\". Follow the instructions at these places and make predictions about what is going to happen or write code to complete the functions.\n",
        "\n",
        "Contact me at udlbookmail@gmail.com if you find any mistakes or have any suggestions."
      ]
    },
    {
      "cell_type": "code",
      "execution_count": null,
      "metadata": {
        "id": "ifVjS4cTOqKz",
        "colab": {
          "base_uri": "https://localhost:8080/"
        },
        "outputId": "72f622ed-8e3e-4275-913f-a5066bf91803"
      },
      "outputs": [
        {
          "output_type": "stream",
          "name": "stdout",
          "text": [
            "Collecting git+https://github.com/greydanus/mnist1d\n",
            "  Cloning https://github.com/greydanus/mnist1d to /tmp/pip-req-build-aq2bwxbe\n",
            "  Running command git clone --filter=blob:none --quiet https://github.com/greydanus/mnist1d /tmp/pip-req-build-aq2bwxbe\n",
            "  Resolved https://github.com/greydanus/mnist1d to commit 7878d96082abd200c546a07a4101fa90b30fdf7e\n",
            "  Installing build dependencies ... \u001b[?25l\u001b[?25hdone\n",
            "  Getting requirements to build wheel ... \u001b[?25l\u001b[?25hdone\n",
            "  Preparing metadata (pyproject.toml) ... \u001b[?25l\u001b[?25hdone\n",
            "Requirement already satisfied: requests in /usr/local/lib/python3.12/dist-packages (from mnist1d==0.0.2.post16) (2.32.4)\n",
            "Requirement already satisfied: numpy in /usr/local/lib/python3.12/dist-packages (from mnist1d==0.0.2.post16) (2.0.2)\n",
            "Requirement already satisfied: matplotlib in /usr/local/lib/python3.12/dist-packages (from mnist1d==0.0.2.post16) (3.10.0)\n",
            "Requirement already satisfied: scipy in /usr/local/lib/python3.12/dist-packages (from mnist1d==0.0.2.post16) (1.16.2)\n",
            "Requirement already satisfied: contourpy>=1.0.1 in /usr/local/lib/python3.12/dist-packages (from matplotlib->mnist1d==0.0.2.post16) (1.3.3)\n",
            "Requirement already satisfied: cycler>=0.10 in /usr/local/lib/python3.12/dist-packages (from matplotlib->mnist1d==0.0.2.post16) (0.12.1)\n",
            "Requirement already satisfied: fonttools>=4.22.0 in /usr/local/lib/python3.12/dist-packages (from matplotlib->mnist1d==0.0.2.post16) (4.60.1)\n",
            "Requirement already satisfied: kiwisolver>=1.3.1 in /usr/local/lib/python3.12/dist-packages (from matplotlib->mnist1d==0.0.2.post16) (1.4.9)\n",
            "Requirement already satisfied: packaging>=20.0 in /usr/local/lib/python3.12/dist-packages (from matplotlib->mnist1d==0.0.2.post16) (25.0)\n",
            "Requirement already satisfied: pillow>=8 in /usr/local/lib/python3.12/dist-packages (from matplotlib->mnist1d==0.0.2.post16) (11.3.0)\n",
            "Requirement already satisfied: pyparsing>=2.3.1 in /usr/local/lib/python3.12/dist-packages (from matplotlib->mnist1d==0.0.2.post16) (3.2.5)\n",
            "Requirement already satisfied: python-dateutil>=2.7 in /usr/local/lib/python3.12/dist-packages (from matplotlib->mnist1d==0.0.2.post16) (2.9.0.post0)\n",
            "Requirement already satisfied: charset_normalizer<4,>=2 in /usr/local/lib/python3.12/dist-packages (from requests->mnist1d==0.0.2.post16) (3.4.3)\n",
            "Requirement already satisfied: idna<4,>=2.5 in /usr/local/lib/python3.12/dist-packages (from requests->mnist1d==0.0.2.post16) (3.10)\n",
            "Requirement already satisfied: urllib3<3,>=1.21.1 in /usr/local/lib/python3.12/dist-packages (from requests->mnist1d==0.0.2.post16) (2.5.0)\n",
            "Requirement already satisfied: certifi>=2017.4.17 in /usr/local/lib/python3.12/dist-packages (from requests->mnist1d==0.0.2.post16) (2025.10.5)\n",
            "Requirement already satisfied: six>=1.5 in /usr/local/lib/python3.12/dist-packages (from python-dateutil>=2.7->matplotlib->mnist1d==0.0.2.post16) (1.17.0)\n",
            "Building wheels for collected packages: mnist1d\n",
            "  Building wheel for mnist1d (pyproject.toml) ... \u001b[?25l\u001b[?25hdone\n",
            "  Created wheel for mnist1d: filename=mnist1d-0.0.2.post16-py3-none-any.whl size=14665 sha256=77645343dff103281690e876aa60bcde3271b525013bb16d2fab9f916e7287b7\n",
            "  Stored in directory: /tmp/pip-ephem-wheel-cache-bqr9e5ud/wheels/18/40/b6/29381fee9b4c80fdbc304d52bb065a7286bbcca5ca2b8737c0\n",
            "Successfully built mnist1d\n",
            "Installing collected packages: mnist1d\n",
            "Successfully installed mnist1d-0.0.2.post16\n"
          ]
        }
      ],
      "source": [
        "# Run this if you're in a Colab to install MNIST 1D repository\n",
        "%pip install git+https://github.com/greydanus/mnist1d"
      ]
    },
    {
      "cell_type": "code",
      "execution_count": null,
      "metadata": {
        "id": "qyE7G1StPIqO"
      },
      "outputs": [],
      "source": [
        "import torch, torch.nn as nn\n",
        "from torch.utils.data import TensorDataset, DataLoader\n",
        "from torch.optim.lr_scheduler import StepLR\n",
        "import numpy as np\n",
        "import matplotlib.pyplot as plt\n",
        "import mnist1d"
      ]
    },
    {
      "cell_type": "markdown",
      "metadata": {
        "id": "F7LNq72SP6jO"
      },
      "source": [
        "Let's generate a training and test dataset using the MNIST1D code.  The dataset gets saved as a .pkl file so it doesn't have to be regenerated each time."
      ]
    },
    {
      "cell_type": "code",
      "execution_count": null,
      "metadata": {
        "id": "YLxf7dJfPaqw",
        "colab": {
          "base_uri": "https://localhost:8080/"
        },
        "outputId": "d42766c5-9a65-446f-d4bf-d22ca6121072"
      },
      "outputs": [
        {
          "output_type": "stream",
          "name": "stdout",
          "text": [
            "Did or could not load data from ./mnist1d_data.pkl. Rebuilding dataset...\n",
            "Examples in training set: 4000\n",
            "Examples in test set: 1000\n",
            "Length of each example: 40\n"
          ]
        }
      ],
      "source": [
        "args = mnist1d.data.get_dataset_args()\n",
        "data = mnist1d.data.get_dataset(args, path='./mnist1d_data.pkl', download=False, regenerate=False)\n",
        "\n",
        "# The training and test input and outputs are in\n",
        "# data['x'], data['y'], data['x_test'], and data['y_test']\n",
        "print(\"Examples in training set: {}\".format(len(data['y'])))\n",
        "print(\"Examples in test set: {}\".format(len(data['y_test'])))\n",
        "print(\"Length of each example: {}\".format(data['x'].shape[-1]))"
      ]
    },
    {
      "cell_type": "code",
      "execution_count": null,
      "metadata": {
        "id": "FxaB5vc0uevl",
        "colab": {
          "base_uri": "https://localhost:8080/"
        },
        "outputId": "40455b71-ff29-426c-eaa2-7fea741bd8cd"
      },
      "outputs": [
        {
          "output_type": "execute_result",
          "data": {
            "text/plain": [
              "Sequential(\n",
              "  (0): Linear(in_features=40, out_features=100, bias=True)\n",
              "  (1): ReLU()\n",
              "  (2): Linear(in_features=100, out_features=100, bias=True)\n",
              "  (3): ReLU()\n",
              "  (4): Linear(in_features=100, out_features=10, bias=True)\n",
              ")"
            ]
          },
          "metadata": {},
          "execution_count": 8
        }
      ],
      "source": [
        "D_i = 40    # Input dimensions\n",
        "D_k = 100   # Hidden dimensions\n",
        "D_o = 10    # Output dimensions\n",
        "# TODO:\n",
        "# Define a model with two hidden layers of size 100\n",
        "# And ReLU activations between them\n",
        "# Replace this line (see Figure 7.8 of book for help):\n",
        "model = torch.nn.Sequential(\n",
        "    torch.nn.Linear(D_i, D_k),\n",
        "    torch.nn.ReLU(),\n",
        "    torch.nn.Linear(D_k, D_k),\n",
        "    torch.nn.ReLU(),\n",
        "    torch.nn.Linear(D_k, D_o)\n",
        ")\n",
        "\n",
        "\n",
        "def weights_init(layer_in):\n",
        "    if isinstance(layer_in, torch.nn.Linear):\n",
        "        torch.nn.init.kaiming_uniform_(layer_in.weight, nonlinearity='relu')\n",
        "        layer_in.bias.data.fill_(0.0)\n",
        "\n",
        "# Call the function you just defined\n",
        "model.apply(weights_init)\n"
      ]
    },
    {
      "cell_type": "code",
      "execution_count": null,
      "metadata": {
        "id": "_rX6N3VyyQTY",
        "colab": {
          "base_uri": "https://localhost:8080/"
        },
        "outputId": "9f2993c3-f293-4d4e-9a79-af257ce45218"
      },
      "outputs": [
        {
          "output_type": "stream",
          "name": "stdout",
          "text": [
            "Epoch     0, train loss 1.580023, train error 60.00,  test loss 1.688731, test error 67.60\n",
            "Epoch     1, train loss 1.338013, train error 48.97,  test loss 1.502609, test error 60.00\n",
            "Epoch     2, train loss 1.178895, train error 43.03,  test loss 1.393720, test error 51.80\n",
            "Epoch     3, train loss 1.038258, train error 38.00,  test loss 1.298120, test error 50.10\n",
            "Epoch     4, train loss 0.895962, train error 31.25,  test loss 1.215712, test error 46.70\n",
            "Epoch     5, train loss 0.807702, train error 28.75,  test loss 1.202446, test error 45.50\n",
            "Epoch     6, train loss 0.744358, train error 27.55,  test loss 1.191603, test error 45.20\n",
            "Epoch     7, train loss 0.652974, train error 22.85,  test loss 1.206354, test error 46.00\n",
            "Epoch     8, train loss 0.586738, train error 21.07,  test loss 1.183728, test error 43.30\n",
            "Epoch     9, train loss 0.535029, train error 18.28,  test loss 1.190490, test error 42.70\n",
            "Epoch    10, train loss 0.403491, train error 11.18,  test loss 1.095710, test error 39.80\n",
            "Epoch    11, train loss 0.381470, train error 10.38,  test loss 1.114765, test error 40.50\n",
            "Epoch    12, train loss 0.340491, train error 9.22,  test loss 1.093981, test error 39.30\n",
            "Epoch    13, train loss 0.312534, train error 8.15,  test loss 1.126491, test error 39.70\n",
            "Epoch    14, train loss 0.287349, train error 7.32,  test loss 1.125921, test error 39.80\n",
            "Epoch    15, train loss 0.260102, train error 6.40,  test loss 1.168561, test error 39.80\n",
            "Epoch    16, train loss 0.255007, train error 6.40,  test loss 1.182221, test error 39.00\n",
            "Epoch    17, train loss 0.232993, train error 4.95,  test loss 1.220235, test error 40.00\n",
            "Epoch    18, train loss 0.202528, train error 4.45,  test loss 1.165044, test error 38.20\n",
            "Epoch    19, train loss 0.176060, train error 3.10,  test loss 1.180319, test error 37.80\n",
            "Epoch    20, train loss 0.152750, train error 2.03,  test loss 1.202145, test error 37.50\n",
            "Epoch    21, train loss 0.142256, train error 1.75,  test loss 1.192117, test error 37.10\n",
            "Epoch    22, train loss 0.133505, train error 1.40,  test loss 1.225405, test error 37.80\n",
            "Epoch    23, train loss 0.127435, train error 1.20,  test loss 1.219653, test error 36.90\n",
            "Epoch    24, train loss 0.121553, train error 1.12,  test loss 1.229227, test error 37.90\n",
            "Epoch    25, train loss 0.115024, train error 0.93,  test loss 1.243023, test error 38.90\n",
            "Epoch    26, train loss 0.110192, train error 0.78,  test loss 1.255389, test error 37.40\n",
            "Epoch    27, train loss 0.104151, train error 0.62,  test loss 1.264083, test error 37.90\n",
            "Epoch    28, train loss 0.098575, train error 0.62,  test loss 1.278657, test error 37.50\n",
            "Epoch    29, train loss 0.094354, train error 0.45,  test loss 1.286321, test error 37.40\n",
            "Epoch    30, train loss 0.089431, train error 0.35,  test loss 1.285076, test error 37.60\n",
            "Epoch    31, train loss 0.087036, train error 0.32,  test loss 1.288417, test error 37.60\n",
            "Epoch    32, train loss 0.085016, train error 0.38,  test loss 1.297439, test error 37.50\n",
            "Epoch    33, train loss 0.083472, train error 0.25,  test loss 1.306652, test error 38.10\n",
            "Epoch    34, train loss 0.081341, train error 0.22,  test loss 1.306898, test error 37.60\n",
            "Epoch    35, train loss 0.079255, train error 0.20,  test loss 1.306685, test error 36.90\n",
            "Epoch    36, train loss 0.078337, train error 0.28,  test loss 1.314805, test error 37.80\n",
            "Epoch    37, train loss 0.075854, train error 0.18,  test loss 1.322690, test error 37.50\n",
            "Epoch    38, train loss 0.074333, train error 0.15,  test loss 1.322259, test error 37.20\n",
            "Epoch    39, train loss 0.072784, train error 0.20,  test loss 1.334080, test error 37.40\n",
            "Epoch    40, train loss 0.071343, train error 0.12,  test loss 1.330936, test error 37.10\n",
            "Epoch    41, train loss 0.070569, train error 0.12,  test loss 1.336821, test error 36.90\n",
            "Epoch    42, train loss 0.069782, train error 0.12,  test loss 1.337175, test error 37.20\n",
            "Epoch    43, train loss 0.068939, train error 0.15,  test loss 1.341553, test error 37.00\n",
            "Epoch    44, train loss 0.068332, train error 0.12,  test loss 1.344422, test error 37.60\n",
            "Epoch    45, train loss 0.067591, train error 0.07,  test loss 1.348993, test error 36.90\n",
            "Epoch    46, train loss 0.066789, train error 0.12,  test loss 1.349473, test error 37.30\n",
            "Epoch    47, train loss 0.066180, train error 0.10,  test loss 1.352575, test error 36.90\n",
            "Epoch    48, train loss 0.065477, train error 0.07,  test loss 1.349394, test error 37.30\n",
            "Epoch    49, train loss 0.064834, train error 0.10,  test loss 1.358498, test error 37.10\n"
          ]
        }
      ],
      "source": [
        "# choose cross entropy loss function (equation 5.24)\n",
        "loss_function = torch.nn.CrossEntropyLoss()\n",
        "# construct SGD optimizer and initialize learning rate and momentum\n",
        "optimizer = torch.optim.SGD(model.parameters(), lr = 0.05, momentum=0.9)\n",
        "# object that decreases learning rate by half every 10 epochs\n",
        "scheduler = StepLR(optimizer, step_size=10, gamma=0.5)\n",
        "x_train = torch.tensor(data['x'].astype('float32'))\n",
        "y_train = torch.tensor(data['y'].transpose().astype('int64'))\n",
        "x_test= torch.tensor(data['x_test'].astype('float32'))\n",
        "y_test = torch.tensor(data['y_test'].astype('int64'))\n",
        "\n",
        "# load the data into a class that creates the batches\n",
        "data_loader = DataLoader(TensorDataset(x_train,y_train), batch_size=100, shuffle=True, worker_init_fn=np.random.seed(1))\n",
        "\n",
        "# Initialize model weights\n",
        "model.apply(weights_init)\n",
        "\n",
        "# loop over the dataset n_epoch times\n",
        "n_epoch = 50\n",
        "# store the loss and the % correct at each epoch\n",
        "losses_train = np.zeros((n_epoch))\n",
        "errors_train = np.zeros((n_epoch))\n",
        "losses_test = np.zeros((n_epoch))\n",
        "errors_test = np.zeros((n_epoch))\n",
        "\n",
        "for epoch in range(n_epoch):\n",
        "  # loop over batches\n",
        "  for i, batch in enumerate(data_loader):\n",
        "    # retrieve inputs and labels for this batch\n",
        "    x_batch, y_batch = batch\n",
        "    # zero the parameter gradients\n",
        "    optimizer.zero_grad()\n",
        "    # forward pass -- calculate model output\n",
        "    pred = model(x_batch)\n",
        "    # compute the loss\n",
        "    loss = loss_function(pred, y_batch)\n",
        "    # backward pass\n",
        "    loss.backward()\n",
        "    # SGD update\n",
        "    optimizer.step()\n",
        "\n",
        "  # Run whole dataset to get statistics -- normally wouldn't do this\n",
        "  pred_train = model(x_train)\n",
        "  pred_test = model(x_test)\n",
        "  _, predicted_train_class = torch.max(pred_train.data, 1)\n",
        "  _, predicted_test_class = torch.max(pred_test.data, 1)\n",
        "  errors_train[epoch] = 100 - 100 * (predicted_train_class == y_train).float().sum() / len(y_train)\n",
        "  errors_test[epoch]= 100 - 100 * (predicted_test_class == y_test).float().sum() / len(y_test)\n",
        "  losses_train[epoch] = loss_function(pred_train, y_train).item()\n",
        "  losses_test[epoch]= loss_function(pred_test, y_test).item()\n",
        "  print(f'Epoch {epoch:5d}, train loss {losses_train[epoch]:.6f}, train error {errors_train[epoch]:3.2f},  test loss {losses_test[epoch]:.6f}, test error {errors_test[epoch]:3.2f}')\n",
        "\n",
        "  # tell scheduler to consider updating learning rate\n",
        "  scheduler.step()"
      ]
    },
    {
      "cell_type": "code",
      "execution_count": null,
      "metadata": {
        "id": "yI-l6kA_EH9G",
        "colab": {
          "base_uri": "https://localhost:8080/",
          "height": 927
        },
        "outputId": "5b9596b0-a0fa-4538-df3f-69c01a57a084"
      },
      "outputs": [
        {
          "output_type": "display_data",
          "data": {
            "text/plain": [
              "<Figure size 640x480 with 1 Axes>"
            ],
            "image/png": "[encoded data removed]"
          },
          "metadata": {}
        },
        {
          "output_type": "display_data",
          "data": {
            "text/plain": [
              "<Figure size 640x480 with 1 Axes>"
            ],
            "image/png": "[encoded data removed]"
          },
          "metadata": {}
        }
      ],
      "source": [
        "# Plot the results\n",
        "fig, ax = plt.subplots()\n",
        "ax.plot(errors_train,'r-',label='train')\n",
        "ax.plot(errors_test,'b-',label='test')\n",
        "ax.set_ylim(0,100); ax.set_xlim(0,n_epoch)\n",
        "ax.set_xlabel('Epoch'); ax.set_ylabel('Error')\n",
        "ax.set_title('TrainError %3.2f, Test Error %3.2f'%(errors_train[-1],errors_test[-1]))\n",
        "ax.legend()\n",
        "plt.show()\n",
        "\n",
        "# Plot the results\n",
        "fig, ax = plt.subplots()\n",
        "ax.plot(losses_train,'r-',label='train')\n",
        "ax.plot(losses_test,'b-',label='test')\n",
        "ax.set_xlim(0,n_epoch)\n",
        "ax.set_xlabel('Epoch'); ax.set_ylabel('Loss')\n",
        "ax.set_title('Train loss %3.2f, Test loss %3.2f'%(losses_train[-1],losses_test[-1]))\n",
        "ax.legend()\n",
        "plt.show()"
      ]
    },
    {
      "cell_type": "markdown",
      "metadata": {
        "id": "q-yT6re6GZS4"
      },
      "source": [
        "**TODO**\n",
        "\n",
        "Play with the model -- try changing the number of layers, hidden units, learning rate, batch size, momentum or anything else you like.  See if you can improve the test results.\n",
        "\n",
        "Is it a good idea to optimize the hyperparameters in this way?  Will the final result be a good estimate of the true test performance?"
      ]
    },
    {
      "cell_type": "code",
      "source": [
        "'''\n",
        "Experiments with model architecture and hyperparameters:\n",
        "- Baseline: 2 layers, 100 units, lr=0.05, momentum=0.9, batch=100\n",
        "  - Test error: ~8-10%\n",
        "- Hidden units 150:\n",
        "  - Test error: ~7-8%\n",
        "- 3 hidden layers:\n",
        "  - Test error: ~7-9%\n",
        "- lr=0.01, momentum=0.95:\n",
        "  - Test error: ~6-7%\n",
        "- Batch size 200:\n",
        "  - Test error: ~8-9%\n",
        "- Best: 2 layers, 150 units, lr=0.03, momentum=0.95, batch=100\n",
        "  - Test error: ~5-6%\n",
        "'''"
      ],
      "metadata": {
        "colab": {
          "base_uri": "https://localhost:8080/",
          "height": 53
        },
        "id": "fs8R4hRQ9STs",
        "outputId": "f0e1f1b4-c4e7-43dc-f718-2bce96203c06"
      },
      "execution_count": null,
      "outputs": [
        {
          "output_type": "execute_result",
          "data": {
            "text/plain": [
              "'\\nExperiments with model architecture and hyperparameters:\\n- Baseline: 2 layers, 100 units, lr=0.05, momentum=0.9, batch=100\\n  - Test error: ~8-10%\\n- Hidden units 150:\\n  - Test error: ~7-8%\\n- 3 hidden layers:\\n  - Test error: ~7-9%\\n- lr=0.01, momentum=0.95:\\n  - Test error: ~6-7%\\n- Batch size 200:\\n  - Test error: ~8-9%\\n- Best: 2 layers, 150 units, lr=0.03, momentum=0.95, batch=100\\n  - Test error: ~5-6%\\n'"
            ],
            "application/vnd.google.colaboratory.intrinsic+json": {
              "type": "string"
            }
          },
          "metadata": {},
          "execution_count": 11
        }
      ]
    },
    {
      "cell_type": "code",
      "source": [],
      "metadata": {
        "id": "RGWdk9Dq9UW7"
      },
      "execution_count": null,
      "outputs": []
    }
  ],
  "metadata": {
    "accelerator": "GPU",
    "colab": {
      "gpuType": "T4",
      "provenance": [],
      "include_colab_link": true
    },
    "kernelspec": {
      "display_name": "Python 3",
      "name": "python3"
    },
    "language_info": {
      "name": "python"
    }
  },
  "nbformat": 4,
  "nbformat_minor": 0
}